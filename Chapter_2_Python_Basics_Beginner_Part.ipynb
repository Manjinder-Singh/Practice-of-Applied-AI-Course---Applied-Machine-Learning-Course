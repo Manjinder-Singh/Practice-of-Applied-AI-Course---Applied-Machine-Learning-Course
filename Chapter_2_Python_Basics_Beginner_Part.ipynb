{
  "nbformat": 4,
  "nbformat_minor": 0,
  "metadata": {
    "colab": {
      "provenance": [],
      "authorship_tag": "ABX9TyM0trjEGOw38jQTGjZdcrMV",
      "include_colab_link": true
    },
    "kernelspec": {
      "name": "python3",
      "display_name": "Python 3"
    },
    "language_info": {
      "name": "python"
    }
  },
  "cells": [
    {
      "cell_type": "markdown",
      "metadata": {
        "id": "view-in-github",
        "colab_type": "text"
      },
      "source": [
        "<a href=\"https://colab.research.google.com/github/Manjinder-Singh/Practice-of-Applied-AI-Course---Applied-Machine-Learning-Course/blob/main/Chapter_2_Python_Basics_Beginner_Part.ipynb\" target=\"_parent\"><img src=\"https://colab.research.google.com/assets/colab-badge.svg\" alt=\"Open In Colab\"/></a>"
      ]
    },
    {
      "cell_type": "markdown",
      "source": [
        "#Learning Series : Applied AI Course - Applied Machine Learning Course"
      ],
      "metadata": {
        "id": "CT4-UaN3btX8"
      }
    },
    {
      "cell_type": "markdown",
      "source": [
        "##### Chapter 2 - Python(Basic Level)"
      ],
      "metadata": {
        "id": "RIryAPAgcAoJ"
      }
    },
    {
      "cell_type": "markdown",
      "source": [
        "**#Chapter - Installation**\n",
        "1. Install Python,\n",
        "2. PIP/Anaconda IDE or\n",
        "3. Google Colab"
      ],
      "metadata": {
        "id": "5siCdJuPowf1"
      }
    },
    {
      "cell_type": "code",
      "source": [],
      "metadata": {
        "id": "yunf8CoHviXE"
      },
      "execution_count": null,
      "outputs": []
    },
    {
      "cell_type": "markdown",
      "source": [
        "**#Chapter - Keywords and Identifiers.**\n",
        "\n",
        "\n"
      ],
      "metadata": {
        "id": "Ep0j7HZ6vAFA"
      }
    },
    {
      "cell_type": "markdown",
      "source": [
        "##Python Keywords\n",
        "####1. Reservered words in python. We cannot use keywords as a function name, variable name or any other identifier.\n",
        "####2. All keywords are case sensitive.\n",
        "\n"
      ],
      "metadata": {
        "id": "-N-5BQqO_6Cc"
      }
    },
    {
      "cell_type": "code",
      "source": [
        "import keyword\n",
        "print(keyword.kwlist)\n",
        "print(\"Keywords name and count:- \", len(keyword.kwlist))"
      ],
      "metadata": {
        "colab": {
          "base_uri": "https://localhost:8080/"
        },
        "id": "v0R26Nyr9_6d",
        "outputId": "0683513e-83da-42c6-e6e9-8e8138203f42"
      },
      "execution_count": 1,
      "outputs": [
        {
          "output_type": "stream",
          "name": "stdout",
          "text": [
            "['False', 'None', 'True', 'and', 'as', 'assert', 'async', 'await', 'break', 'class', 'continue', 'def', 'del', 'elif', 'else', 'except', 'finally', 'for', 'from', 'global', 'if', 'import', 'in', 'is', 'lambda', 'nonlocal', 'not', 'or', 'pass', 'raise', 'return', 'try', 'while', 'with', 'yield']\n",
            "Keywords name and count:-  35\n"
          ]
        }
      ]
    },
    {
      "cell_type": "markdown",
      "source": [
        "#Python Identifiers\n",
        "#### 1. Name with lowercase, uppercase, digits or underscore\n",
        "#### 2. Identifier cannot start with digit.\n",
        "#### 3. keywords cannot be used as idnetifier.\n"
      ],
      "metadata": {
        "id": "vcX1AOpMB2MK"
      }
    },
    {
      "cell_type": "code",
      "source": [
        "#Example of Valid Identifier\n",
        "a_143_bc = 12 #valid\n",
        "BC = \"Hello\" #valid\n"
      ],
      "metadata": {
        "id": "QEwlpNHJotwD"
      },
      "execution_count": 4,
      "outputs": []
    },
    {
      "cell_type": "code",
      "source": [
        "# Example of Invalid Identifier\n",
        "a@ = 12 //Invalid\n",
        "global = 1 // invliad as its a keyword"
      ],
      "metadata": {
        "id": "rm67m0D3bQ-f"
      },
      "execution_count": null,
      "outputs": []
    },
    {
      "cell_type": "markdown",
      "source": [
        "**Chapter - Comments, Indentation and Statements.**"
      ],
      "metadata": {
        "id": "z6KRxiDhu4xM"
      }
    },
    {
      "cell_type": "markdown",
      "source": [
        "#Comments\n",
        "####1. Single Line Comments : starts with hash #\n",
        "####2. Multi Comments Comments : starts and ends with triple \"\"\"\n"
      ],
      "metadata": {
        "id": "HDRP3HbrCjTL"
      }
    },
    {
      "cell_type": "code",
      "source": [
        "#Declaring vaiable with single line comment\n",
        "a=10\n",
        "\n",
        "\"\"\" Declaring\n",
        "variable\n",
        "with multi\n",
        "line comment\"\"\"\n",
        "b=20"
      ],
      "metadata": {
        "id": "plMcWVW0DCeP"
      },
      "execution_count": null,
      "outputs": []
    },
    {
      "cell_type": "markdown",
      "source": [
        "#Indentation\n",
        "#### 1. Other languages use braces but python uses indentation to define block of code.\n",
        "#### 2. Generally it is a code block(body of fn, loop etc.) starts with indentation and ends with the first unindented line. The amount o findentation is upto the programmer, but it must be consistent throughout that block.\n",
        "#### 3. Generally four whitespaces is used(recommended) and preferred over tab(varies with text editors)\n",
        "#### 4. Recommended to use proper indentation consistent throughout the program."
      ],
      "metadata": {
        "id": "Dnh-MkMHDZVg"
      }
    },
    {
      "cell_type": "code",
      "source": [
        "for i in range(10):\n",
        "    print(i)\n",
        "    print(i*10)\n",
        "print(100)\n",
        "print(\"Hello\")"
      ],
      "metadata": {
        "colab": {
          "base_uri": "https://localhost:8080/"
        },
        "id": "hGxN1lqxCR7E",
        "outputId": "2ce577b8-7fbe-4d04-b1e2-93b405407f01"
      },
      "execution_count": 5,
      "outputs": [
        {
          "output_type": "stream",
          "name": "stdout",
          "text": [
            "0\n",
            "0\n",
            "1\n",
            "10\n",
            "2\n",
            "20\n",
            "3\n",
            "30\n",
            "4\n",
            "40\n",
            "5\n",
            "50\n",
            "6\n",
            "60\n",
            "7\n",
            "70\n",
            "8\n",
            "80\n",
            "9\n",
            "90\n",
            "100\n",
            "Hello\n"
          ]
        }
      ]
    },
    {
      "cell_type": "code",
      "source": [
        "#Good Code Readabiltiy - Defined in seprate lines\n",
        "if True:\n",
        "     print(\"AI ML Couse\")\n",
        "     c =\"AIML\""
      ],
      "metadata": {
        "colab": {
          "base_uri": "https://localhost:8080/"
        },
        "id": "GTsbVcdfEuTs",
        "outputId": "afa08c75-bd99-417c-d332-55674ff8100b"
      },
      "execution_count": 6,
      "outputs": [
        {
          "output_type": "stream",
          "name": "stdout",
          "text": [
            "AI ML Couse\n"
          ]
        }
      ]
    },
    {
      "cell_type": "code",
      "source": [
        "#Follwoing code statemnet is not a good readable and cleaniness practice. so its important correct code with good readability and cleaniness.\n",
        "if True: print(\"Machien Learning\"); c = \"AIML\""
      ],
      "metadata": {
        "id": "aJx8umUaE2Qv"
      },
      "execution_count": null,
      "outputs": []
    },
    {
      "cell_type": "markdown",
      "source": [
        "#Python Statement\n",
        "#### Instructions that a Python interpreter can execute are called statements.\n",
        "#### Example"
      ],
      "metadata": {
        "id": "vyXdqsMQFJPL"
      }
    },
    {
      "cell_type": "code",
      "source": [
        "a = 1 #Single statement"
      ],
      "metadata": {
        "id": "gyzXwlEyFXEF"
      },
      "execution_count": null,
      "outputs": []
    },
    {
      "cell_type": "markdown",
      "source": [
        "Multi Line Statement - End of statement is marked by a newline character. But we can make a statement extend over multiple lines with the line contination character()."
      ],
      "metadata": {
        "id": "BxcwSVK-FnR3"
      }
    },
    {
      "cell_type": "code",
      "source": [
        "a = 1 + 3 + \\\n",
        "    5 + 7 + \\\n",
        "    9"
      ],
      "metadata": {
        "id": "PM_HzpWrF-pI"
      },
      "execution_count": 7,
      "outputs": []
    },
    {
      "cell_type": "code",
      "source": [
        "print(a)"
      ],
      "metadata": {
        "colab": {
          "base_uri": "https://localhost:8080/"
        },
        "id": "co7azRu9F5E1",
        "outputId": "35aeeddc-6313-4551-bf7e-5784f2c0067b"
      },
      "execution_count": 8,
      "outputs": [
        {
          "output_type": "stream",
          "name": "stdout",
          "text": [
            "25\n"
          ]
        }
      ]
    },
    {
      "cell_type": "code",
      "source": [
        "# Other method to use parathensis\n",
        "a = ( 1+ 2 + 3 +\n",
        "     4 + 5 + 6 +\n",
        "      7 + 8 + 9)\n",
        "print(a)"
      ],
      "metadata": {
        "colab": {
          "base_uri": "https://localhost:8080/"
        },
        "id": "-NcjzrOIanM8",
        "outputId": "6efbf41e-29d1-4c1e-b2a6-ccfbbe1f8f39"
      },
      "execution_count": 9,
      "outputs": [
        {
          "output_type": "stream",
          "name": "stdout",
          "text": [
            "45\n"
          ]
        }
      ]
    },
    {
      "cell_type": "code",
      "source": [
        "#you can also put mutiple statements in single line\n",
        "a=10; b=30; c =50"
      ],
      "metadata": {
        "id": "53HTrUXea4SP"
      },
      "execution_count": 2,
      "outputs": []
    },
    {
      "cell_type": "code",
      "source": [
        "\n"
      ],
      "metadata": {
        "id": "RHbVJ4FNum49"
      },
      "execution_count": 38,
      "outputs": []
    },
    {
      "cell_type": "markdown",
      "source": [
        "**# CHAPTER - VARIABLES AND DATATYPES**"
      ],
      "metadata": {
        "id": "VOosJHuLuuLL"
      }
    },
    {
      "cell_type": "markdown",
      "source": [
        "#Variable\n",
        "#####1. Location in memory used to store some data(value)\n",
        "#####2. They are given unique names to differentiate different memory locations. The rules for writing variables are same as the rules for writing identifiers in Python.\n",
        "#####3. We do not need to declare a variable before using it. In python, simply assign a value to a variable and it will exist. We don't even have to declare the type of the variable. This is handled internally according to the type of value we assign to the variable.\n"
      ],
      "metadata": {
        "id": "epmO8GRhcBa-"
      }
    },
    {
      "cell_type": "markdown",
      "source": [
        "#Variable Assignment"
      ],
      "metadata": {
        "id": "fAP4Ft7Vc6hQ"
      }
    },
    {
      "cell_type": "code",
      "source": [
        "# assignment operator(=) is ised to assign values ot the variable."
      ],
      "metadata": {
        "id": "NR4oTPNlc5So"
      },
      "execution_count": null,
      "outputs": []
    },
    {
      "cell_type": "code",
      "source": [
        "# a%=10 wrong declaration\n",
        "a = 10\n",
        "b = 50.25\n",
        "c = \"Y\"\n",
        "d = \"Hello ML folks\""
      ],
      "metadata": {
        "id": "2SXJd3ZBdD35"
      },
      "execution_count": 10,
      "outputs": []
    },
    {
      "cell_type": "markdown",
      "source": [
        "#Multiple Assignments\n"
      ],
      "metadata": {
        "id": "KuJnrCnsdLkY"
      }
    },
    {
      "cell_type": "code",
      "source": [
        "a,b,c,d = 10,50.25,\"Y\",\"Hello ML folks\""
      ],
      "metadata": {
        "id": "3fk-mVQ7dN6U"
      },
      "execution_count": null,
      "outputs": []
    },
    {
      "cell_type": "code",
      "source": [
        "a = b = c = \"AI\" #Assigning the same value to multiple variables at once."
      ],
      "metadata": {
        "id": "MZdg0xAGgPQD"
      },
      "execution_count": null,
      "outputs": []
    },
    {
      "cell_type": "markdown",
      "source": [
        "#Storage Locations"
      ],
      "metadata": {
        "id": "zhHXwfsegW7T"
      }
    },
    {
      "cell_type": "code",
      "source": [
        "a =10\n",
        "\n",
        "print(id(a)) # print address/ memory location of variable a"
      ],
      "metadata": {
        "colab": {
          "base_uri": "https://localhost:8080/"
        },
        "id": "T9acSvaNgZP7",
        "outputId": "6fcee0d1-7503-4648-a239-1284de3e90db"
      },
      "execution_count": 11,
      "outputs": [
        {
          "output_type": "stream",
          "name": "stdout",
          "text": [
            "132375560913424\n"
          ]
        }
      ]
    },
    {
      "cell_type": "code",
      "source": [
        "b = 10\n",
        "print(id(b)) # print address/ memory location of variable b\n",
        "\n",
        "# a and b points to same memory location."
      ],
      "metadata": {
        "colab": {
          "base_uri": "https://localhost:8080/"
        },
        "id": "6lNXSOeNgjsA",
        "outputId": "5020cf47-7dc4-4295-d6a6-8be0ccbf269b"
      },
      "execution_count": 12,
      "outputs": [
        {
          "output_type": "stream",
          "name": "stdout",
          "text": [
            "132375560913424\n"
          ]
        }
      ]
    },
    {
      "cell_type": "code",
      "source": [
        "b = 2\n",
        "print(id(b)) # print address/ memory location of variable b"
      ],
      "metadata": {
        "colab": {
          "base_uri": "https://localhost:8080/"
        },
        "id": "2LszZ1hkgzrS",
        "outputId": "83af81f4-4319-4b13-9338-4dc3b8037b7e"
      },
      "execution_count": 13,
      "outputs": [
        {
          "output_type": "stream",
          "name": "stdout",
          "text": [
            "132375560913168\n"
          ]
        }
      ]
    },
    {
      "cell_type": "markdown",
      "source": [
        "#Data Types:\n",
        "#### Every value in Python has a datatype\n",
        "#### Since everything is an object in Python Programming, data types are actually classes and variables are instance(object) of these classes.\n",
        "#### 1. Numbers: Int, float, complex number falls under Python number category\n",
        "#### 2. Boolean: It represents the truth values False and True.\n",
        "#### 3. Python Strings:\n",
        "#### -> String is sequence of Unicode characters.\n",
        "#### -> Use single or double quotes to represent strings.\n",
        "#### -> Multi-line strings can be denoted using tripel quotes ''' or \"\"\".\n",
        "#### -> A string in Python consists of a series or sequence of characters - letters, numbers, and special characters.\n",
        "#### -> Strings can be indexed - often synonymously called subscripted as well.\n",
        "#### -> Similar to C progg. lang., teh first charcter of a string has the index 0.\n",
        "####a"
      ],
      "metadata": {
        "id": "S-jCSPQ9hVKU"
      }
    },
    {
      "cell_type": "code",
      "source": [
        "a = 10 # Data type is implicitly set to integer.\n",
        "print(a, \" is of type\",type(a))\n",
        "\n",
        "b = 5.5 # Data type is implicitly set to float\n",
        "print(b, \" is of type\",type(b))\n",
        "\n",
        "c = 1+2j  # Data type is implicitly set to comlex number.\n",
        "print(c, \" is complex number or not???\")\n",
        "print(isinstance(1+2j,complex))\n",
        "\n",
        "print(type(c))\n",
        "\n",
        "d = True # d is a boolean type.\n",
        "print(type(d))"
      ],
      "metadata": {
        "colab": {
          "base_uri": "https://localhost:8080/"
        },
        "id": "WTkAbATUjVQ3",
        "outputId": "05b07b76-c32b-46f6-ba62-6465f2d02810"
      },
      "execution_count": 20,
      "outputs": [
        {
          "output_type": "stream",
          "name": "stdout",
          "text": [
            "10  is of type <class 'int'>\n",
            "5.5  is of type <class 'float'>\n",
            "(1+2j)  is complex number or not???\n",
            "True\n",
            "<class 'complex'>\n",
            "<class 'bool'>\n"
          ]
        }
      ]
    },
    {
      "cell_type": "code",
      "source": [
        "# single quote usage\n",
        "\n",
        "a = \"How are you?\" # double quote usage\n",
        "b='How are you?' # single quote usage\n",
        "c=\"\"\"How\n",
        "are\n",
        "you?\"\"\" # three double quote usage for multi line strings\n",
        "d='''How\n",
        "are\n",
        "you?''' # three single quote usage for multi line strings\n",
        "\n",
        "print(a)\n",
        "print(type(a))\n",
        "print(b)\n",
        "print(type(b))\n",
        "print(c)\n",
        "print(type(c))\n",
        "print(d)\n",
        "print(type(d))\n",
        "print(d[0])\n",
        "print(d[1])\n",
        "print(d[2])\n",
        "print(d[3])\n",
        "print(d[4])\n",
        "print(d[5])\n",
        "print(d[0])\n",
        "print(d[0])\n",
        "print(d[-1]) # Print last char\n",
        "print(d[-2]) # Print 2nd last char\n",
        "print(d[len(d) -1])\n",
        "# Last character d[len(d)-1] or d[-1]\n",
        "\n",
        "#slicing\n",
        "e=\"abcd efgh ijkl\"\n",
        "e[5:] # print everything from 5 index until end.\n",
        "e[5:11] # print everything from 5 index until 11 index.\n",
        "\n",
        "\n"
      ],
      "metadata": {
        "colab": {
          "base_uri": "https://localhost:8080/",
          "height": 452
        },
        "id": "w_r3TWmXmCST",
        "outputId": "4d11ca15-4982-43f3-85f2-d801e8810762"
      },
      "execution_count": 31,
      "outputs": [
        {
          "output_type": "stream",
          "name": "stdout",
          "text": [
            "How are you?\n",
            "<class 'str'>\n",
            "How are you?\n",
            "<class 'str'>\n",
            "How\n",
            "are \n",
            "you?\n",
            "<class 'str'>\n",
            "How\n",
            "are \n",
            "you?\n",
            "<class 'str'>\n",
            "H\n",
            "o\n",
            "w\n",
            "\n",
            "\n",
            "a\n",
            "r\n",
            "H\n",
            "H\n",
            "?\n",
            "u\n",
            "?\n"
          ]
        },
        {
          "output_type": "execute_result",
          "data": {
            "text/plain": [
              "'efgh i'"
            ],
            "application/vnd.google.colaboratory.intrinsic+json": {
              "type": "string"
            }
          },
          "metadata": {},
          "execution_count": 31
        }
      ]
    },
    {
      "cell_type": "markdown",
      "source": [
        "#Python List\n",
        "#### 1. Ordered sequence of items.\n",
        "#### 2. All items in list is required to be of the same type.\n",
        "#### 3. Declaring a list is, Items seprated by commas are enclosed within brackets [].\n",
        "#### 4. Lists are mutable, i.e., value of elements of a list can be altered.\n"
      ],
      "metadata": {
        "id": "pUSK8C92sOlJ"
      }
    },
    {
      "cell_type": "code",
      "source": [
        "a = [1, 2.5, \"Hello\"]\n",
        "print(a)\n",
        "print(a[0]) #Prints value at 0th index.\n",
        "print(a[1]) #Prints value at 1st index.\n",
        "print(a[2]) #Prints value at 2nd index.\n",
        "\n",
        "\n",
        "a[1] = 96.7\n",
        "print(a)"
      ],
      "metadata": {
        "colab": {
          "base_uri": "https://localhost:8080/"
        },
        "id": "vhsrX3bRsP_9",
        "outputId": "987fbd47-3306-4744-c5ed-b7a5ad89fa39"
      },
      "execution_count": 34,
      "outputs": [
        {
          "output_type": "stream",
          "name": "stdout",
          "text": [
            "[1, 2.5, 'Hello']\n",
            "2.5\n",
            "[1, 96.7, 'Hello']\n"
          ]
        }
      ]
    },
    {
      "cell_type": "markdown",
      "source": [
        "#Python Tuple\n",
        "#### 1. Tuple is an ordered sequence of items same as list\n",
        "#### 2.  The only difference is that tuples are immutable.\n",
        "#### 3. Tuples once created cannot be modifed.\n",
        "#### 4. Tupes are declared within ( ) instead of [ ] - unlike List."
      ],
      "metadata": {
        "id": "CrlW_pxqs2Ne"
      }
    },
    {
      "cell_type": "code",
      "source": [
        "a = (1, 2.5, \"Hello\")\n",
        "print(a)\n",
        "print(a[0]) #Prints value at 0th index.\n",
        "print(a[1]) #Prints value at 1st index.\n",
        "print(a[2]) #Prints value at 2nd index.\n"
      ],
      "metadata": {
        "colab": {
          "base_uri": "https://localhost:8080/"
        },
        "id": "amCEQXAwuSar",
        "outputId": "102099eb-f039-4aa8-9c07-260ec4dbae4b"
      },
      "execution_count": 36,
      "outputs": [
        {
          "output_type": "stream",
          "name": "stdout",
          "text": [
            "(1, 2.5, 'Hello')\n",
            "1\n",
            "2.5\n",
            "Hello\n"
          ]
        }
      ]
    },
    {
      "cell_type": "code",
      "source": [
        "\n",
        "# Cannot be modified as tuple is immutable/constants(we can read but cant change that.)\n",
        "a[1] = 96.7\n",
        "print(a)"
      ],
      "metadata": {
        "colab": {
          "base_uri": "https://localhost:8080/",
          "height": 210
        },
        "id": "UspHQcBPuYca",
        "outputId": "d88cd0b5-119e-4370-f35b-cb7b0dc5028d"
      },
      "execution_count": 37,
      "outputs": [
        {
          "output_type": "error",
          "ename": "TypeError",
          "evalue": "ignored",
          "traceback": [
            "\u001b[0;31m---------------------------------------------------------------------------\u001b[0m",
            "\u001b[0;31mTypeError\u001b[0m                                 Traceback (most recent call last)",
            "\u001b[0;32m<ipython-input-37-19fd88616520>\u001b[0m in \u001b[0;36m<cell line: 2>\u001b[0;34m()\u001b[0m\n\u001b[1;32m      1\u001b[0m \u001b[0;31m# Cannot be modified a sit is a list\u001b[0m\u001b[0;34m\u001b[0m\u001b[0;34m\u001b[0m\u001b[0m\n\u001b[0;32m----> 2\u001b[0;31m \u001b[0ma\u001b[0m\u001b[0;34m[\u001b[0m\u001b[0;36m1\u001b[0m\u001b[0;34m]\u001b[0m \u001b[0;34m=\u001b[0m \u001b[0;36m96.7\u001b[0m\u001b[0;34m\u001b[0m\u001b[0;34m\u001b[0m\u001b[0m\n\u001b[0m\u001b[1;32m      3\u001b[0m \u001b[0mprint\u001b[0m\u001b[0;34m(\u001b[0m\u001b[0ma\u001b[0m\u001b[0;34m)\u001b[0m\u001b[0;34m\u001b[0m\u001b[0;34m\u001b[0m\u001b[0m\n",
            "\u001b[0;31mTypeError\u001b[0m: 'tuple' object does not support item assignment"
          ]
        }
      ]
    },
    {
      "cell_type": "markdown",
      "source": [
        "#Python Set\n",
        "#### 1. Set is an unordered collection of unique items\n",
        "#### 2. Set is defined by values seprated by comma\n",
        "#### 3. Items in set are not ordered.\n",
        "#### 4. Sets are declared within { } instead of [ ] - unlike List and ( ) unlike tuple.\n",
        "\n",
        "Set - UNIQUE AND UNORDERED"
      ],
      "metadata": {
        "id": "9AvNDnMpwCwH"
      }
    },
    {
      "cell_type": "code",
      "source": [
        "a = {1, 2, 3 , 4}\n",
        "print(a)\n",
        "print(type(a)) # Printing type of a\n",
        "\n",
        "b = {1 ,2 ,1, 2, 2 ,2 ,1 ,1}\n",
        "print(b) # Set stores only unique values"
      ],
      "metadata": {
        "colab": {
          "base_uri": "https://localhost:8080/"
        },
        "id": "OHSrN-EOwZRV",
        "outputId": "5527c399-286d-464b-e735-1c11cb183e0c"
      },
      "execution_count": 41,
      "outputs": [
        {
          "output_type": "stream",
          "name": "stdout",
          "text": [
            "{1, 2, 3, 4}\n",
            "<class 'set'>\n",
            "{1, 2}\n"
          ]
        }
      ]
    },
    {
      "cell_type": "code",
      "source": [
        "# We cannot print particular element in set because it is unordered collection of items.\n",
        "print(b[1]) # Gives error as per above explanation."
      ],
      "metadata": {
        "colab": {
          "base_uri": "https://localhost:8080/",
          "height": 175
        },
        "id": "B2aMd8aaxrmP",
        "outputId": "56632985-6c97-4766-b1a5-26904547d96f"
      },
      "execution_count": 42,
      "outputs": [
        {
          "output_type": "error",
          "ename": "TypeError",
          "evalue": "ignored",
          "traceback": [
            "\u001b[0;31m---------------------------------------------------------------------------\u001b[0m",
            "\u001b[0;31mTypeError\u001b[0m                                 Traceback (most recent call last)",
            "\u001b[0;32m<ipython-input-42-c43ac69b844c>\u001b[0m in \u001b[0;36m<cell line: 1>\u001b[0;34m()\u001b[0m\n\u001b[0;32m----> 1\u001b[0;31m \u001b[0mprint\u001b[0m\u001b[0;34m(\u001b[0m\u001b[0mb\u001b[0m\u001b[0;34m[\u001b[0m\u001b[0;36m1\u001b[0m\u001b[0;34m]\u001b[0m\u001b[0;34m)\u001b[0m\u001b[0;34m\u001b[0m\u001b[0;34m\u001b[0m\u001b[0m\n\u001b[0m",
            "\u001b[0;31mTypeError\u001b[0m: 'set' object is not subscriptable"
          ]
        }
      ]
    },
    {
      "cell_type": "markdown",
      "source": [
        "#Python Dictionary\n",
        "#### 1. Dictionary is an unordered collection of key value pairs.\n",
        "#### 2. In python, dictionaries are defined within braces { }\n",
        "#### 3. Each item in dictionary is being a pair in the form key:value.\n",
        "key and value can be of any type."
      ],
      "metadata": {
        "id": "ns-uqDMn052i"
      }
    },
    {
      "cell_type": "code",
      "source": [],
      "metadata": {
        "id": "IvBbRYB91LWs"
      },
      "execution_count": null,
      "outputs": []
    },
    {
      "cell_type": "code",
      "source": [
        "d = { 'a':\"MAC\",'b':\"MSC\",'c':\"PhD\"}\n",
        "print(d['a'])\n",
        "print(d['b'])\n",
        "print(d['c'])\n",
        "print(d['d']) # Gives error as key with d is not present in dictionary."
      ],
      "metadata": {
        "colab": {
          "base_uri": "https://localhost:8080/",
          "height": 262
        },
        "id": "M5qU3Li21XhG",
        "outputId": "80b5f4db-47ca-4f7f-9857-3255808d02f8"
      },
      "execution_count": 45,
      "outputs": [
        {
          "output_type": "stream",
          "name": "stdout",
          "text": [
            "MAC\n",
            "MSC\n",
            "PhD\n"
          ]
        },
        {
          "output_type": "error",
          "ename": "KeyError",
          "evalue": "ignored",
          "traceback": [
            "\u001b[0;31m---------------------------------------------------------------------------\u001b[0m",
            "\u001b[0;31mKeyError\u001b[0m                                  Traceback (most recent call last)",
            "\u001b[0;32m<ipython-input-45-66b8cf2dc568>\u001b[0m in \u001b[0;36m<cell line: 5>\u001b[0;34m()\u001b[0m\n\u001b[1;32m      3\u001b[0m \u001b[0mprint\u001b[0m\u001b[0;34m(\u001b[0m\u001b[0md\u001b[0m\u001b[0;34m[\u001b[0m\u001b[0;34m'b'\u001b[0m\u001b[0;34m]\u001b[0m\u001b[0;34m)\u001b[0m\u001b[0;34m\u001b[0m\u001b[0;34m\u001b[0m\u001b[0m\n\u001b[1;32m      4\u001b[0m \u001b[0mprint\u001b[0m\u001b[0;34m(\u001b[0m\u001b[0md\u001b[0m\u001b[0;34m[\u001b[0m\u001b[0;34m'c'\u001b[0m\u001b[0;34m]\u001b[0m\u001b[0;34m)\u001b[0m\u001b[0;34m\u001b[0m\u001b[0;34m\u001b[0m\u001b[0m\n\u001b[0;32m----> 5\u001b[0;31m \u001b[0mprint\u001b[0m\u001b[0;34m(\u001b[0m\u001b[0md\u001b[0m\u001b[0;34m[\u001b[0m\u001b[0;34m'd'\u001b[0m\u001b[0;34m]\u001b[0m\u001b[0;34m)\u001b[0m\u001b[0;34m\u001b[0m\u001b[0;34m\u001b[0m\u001b[0m\n\u001b[0m",
            "\u001b[0;31mKeyError\u001b[0m: 'd'"
          ]
        }
      ]
    },
    {
      "cell_type": "markdown",
      "source": [
        "#Conversion between Datatypes\n",
        "#### We can convert between different data types by using different type conversion function like int(), float(), str() etc."
      ],
      "metadata": {
        "id": "ikP7TC3317ru"
      }
    },
    {
      "cell_type": "code",
      "source": [
        "float(5) # Convert integer to float using float() method."
      ],
      "metadata": {
        "colab": {
          "base_uri": "https://localhost:8080/"
        },
        "id": "gSpjloOc2Rtu",
        "outputId": "ac334341-0709-4bde-9775-9867ea2b1ae9"
      },
      "execution_count": 46,
      "outputs": [
        {
          "output_type": "execute_result",
          "data": {
            "text/plain": [
              "5.0"
            ]
          },
          "metadata": {},
          "execution_count": 46
        }
      ]
    },
    {
      "cell_type": "code",
      "source": [
        "int(100.503) # Convert float to integer using int() method."
      ],
      "metadata": {
        "colab": {
          "base_uri": "https://localhost:8080/"
        },
        "id": "O77yz2rO2qFp",
        "outputId": "226acdfe-89e0-4c63-d0f9-1f0fc9a1b1a5"
      },
      "execution_count": 47,
      "outputs": [
        {
          "output_type": "execute_result",
          "data": {
            "text/plain": [
              "100"
            ]
          },
          "metadata": {},
          "execution_count": 47
        }
      ]
    },
    {
      "cell_type": "code",
      "source": [
        "str(5) # Convert integer to String using str() method."
      ],
      "metadata": {
        "colab": {
          "base_uri": "https://localhost:8080/",
          "height": 35
        },
        "id": "rL98uWfg2z3N",
        "outputId": "cd1c9be3-fc46-475b-e278-f15c45b70e2e"
      },
      "execution_count": 48,
      "outputs": [
        {
          "output_type": "execute_result",
          "data": {
            "text/plain": [
              "'5'"
            ],
            "application/vnd.google.colaboratory.intrinsic+json": {
              "type": "string"
            }
          },
          "metadata": {},
          "execution_count": 48
        }
      ]
    },
    {
      "cell_type": "markdown",
      "source": [
        "#### Conversion to and from string must contain compatiable values.\n",
        "\n"
      ],
      "metadata": {
        "id": "iNcUcoKv26pf"
      }
    },
    {
      "cell_type": "code",
      "source": [
        "\n",
        "int('10p') # Gives error"
      ],
      "metadata": {
        "colab": {
          "base_uri": "https://localhost:8080/",
          "height": 193
        },
        "id": "iRA4pc1225Q7",
        "outputId": "2cff18fa-d48b-4142-b02f-772a55045348"
      },
      "execution_count": 51,
      "outputs": [
        {
          "output_type": "error",
          "ename": "ValueError",
          "evalue": "ignored",
          "traceback": [
            "\u001b[0;31m---------------------------------------------------------------------------\u001b[0m",
            "\u001b[0;31mValueError\u001b[0m                                Traceback (most recent call last)",
            "\u001b[0;32m<ipython-input-51-61e75bb13c3b>\u001b[0m in \u001b[0;36m<cell line: 2>\u001b[0;34m()\u001b[0m\n\u001b[1;32m      1\u001b[0m \u001b[0mint\u001b[0m\u001b[0;34m(\u001b[0m\u001b[0;36m10.04\u001b[0m\u001b[0;34m)\u001b[0m\u001b[0;34m\u001b[0m\u001b[0;34m\u001b[0m\u001b[0m\n\u001b[0;32m----> 2\u001b[0;31m \u001b[0mint\u001b[0m\u001b[0;34m(\u001b[0m\u001b[0;34m'10p'\u001b[0m\u001b[0;34m)\u001b[0m \u001b[0;31m# Gives error\u001b[0m\u001b[0;34m\u001b[0m\u001b[0;34m\u001b[0m\u001b[0m\n\u001b[0m",
            "\u001b[0;31mValueError\u001b[0m: invalid literal for int() with base 10: '10p'"
          ]
        }
      ]
    },
    {
      "cell_type": "code",
      "source": [
        "user = \"manjinder\"\n",
        "lines = 100\n",
        "print(\"Congrats, \" + user + \"! You just wrote \" +str (lines) + \" lines of code.\")\n",
        "#if we remove str and it will give error"
      ],
      "metadata": {
        "colab": {
          "base_uri": "https://localhost:8080/"
        },
        "id": "_LUX9z-14Qk2",
        "outputId": "d2720f7b-e863-4f41-c8ee-de1cbb5b8b69"
      },
      "execution_count": 54,
      "outputs": [
        {
          "output_type": "stream",
          "name": "stdout",
          "text": [
            "Congrats, manjinder! You just wrote 100 lines of code.\n"
          ]
        }
      ]
    }
  ]
}